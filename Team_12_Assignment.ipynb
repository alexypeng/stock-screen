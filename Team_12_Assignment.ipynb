{
 "cells": [
  {
   "cell_type": "code",
   "execution_count": 50,
   "execution_count": 17,
   "metadata": {},
   "outputs": [],
   "source": [
    "#These are the libraries you can use.  You may add any libraries directy related to threading if this is a direction\n",
    "#you wish to go (this is not from the course, so it's entirely on you if you wish to use threading).  Any\n",
    "#further libraries you wish to use you must email me, james@uwaterloo.ca, for permission.\n",
    "\n",
    "from IPython.display import display, Math, Latex\n",
    "\n",
    "import pandas as pd\n",
    "import numpy as np\n",
    "import numpy_financial as npf\n",
    "import yfinance as yf\n",
    "import matplotlib.pyplot as plt\n",
    "import random\n",
    "from datetime import datetime\n",
    "from scipy.optimize import minimize"
    "import multiprocessing"
   ]
  },
  {
   "cell_type": "markdown",
   "metadata": {},
   "source": [
    "## Group Assignment\n",
    "### Team Number: 12\n",
    "### Team Member Names: Sharuga, Derek, Alex\n",
    "### Team Strategy Chosen: Market Meet"
   ]
  },
  {
   "cell_type": "markdown",
   "metadata": {},
   "source": [
    "Disclose any use of AI for this assignment below (detail where and how you used it).  Please see the course outline for acceptable uses of AI.\n"
   ]
  },
  {
   "cell_type": "code",
   "execution_count": 55,
   "metadata": {},
   "outputs": [],
   "source": [
    "START_DATE = '2023-11-25'\n",
    "END_DATE = '2024-11-23'\n",
    "INVESTMENT = 1000000\n"
   ]
  },
  {
   "cell_type": "code",
   "execution_count": 58,
   "metadata": {},
   "outputs": [],
   "source": [
    "# Function to calculate the purchasing fee depending on the number of shares\n",
    "def calculate_purchase_fee(shares):\n",
    "    return max(3.95, 0.01*shares)"
   ]
  },
  {
   "cell_type": "code",
   "execution_count": 57,
   "metadata": {},
   "outputs": [
    {
     "name": "stderr",
     "output_type": "stream",
     "text": [
      "$AGN: possibly delisted; no price data found  (period=1d) (Yahoo error = \"No data found, symbol may be delisted\")\n",
      "$CELG: possibly delisted; no price data found  (period=1d) (Yahoo error = \"No data found, symbol may be delisted\")\n",
      "$MON: possibly delisted; no price data found  (period=1d) (Yahoo error = \"No data found, symbol may be delisted\")\n",
      "$RTN: possibly delisted; no price data found  (period=1d) (Yahoo error = \"No data found, symbol may be delisted\")\n"
     ]
    }
   ],
   "source": [
    "\n",
    "def validity(tickers):\n",
    "    final_list = []\n",
    "    for ticker in tickers:\n",
    "        #only append the stock to the final stock list if it is valid\n",
    "        if (not check_delist(ticker) and\n",
    "            check_currency(ticker) and\n",
    "            check_trading_days(ticker)):\n",
    "                final_list.append(ticker)\n",
    "    return final_list\n",
    "\n",
    "def check_delist(ticker):\n",
    "    stock = yf.Ticker(ticker)\n",
    "    try:\n",
    "        data = stock.history(period='1d')\n",
    "        if data.empty:\n",
    "            #if we can't find any data on the stock, it's delisted\n",
    "            return True\n",
    "        else:\n",
    "            #check that there is actually valid market data for this stock - AI\n",
    "            if 'Close' not in data.columns or data['Close'].isnull().all():\n",
    "                #if there are no valid close prices, the stock is delisted\n",
    "                return True\n",
    "            return False\n",
    "    except Exception as e:\n",
    "        #if there is an error in finding the stock's data, we can assume that it's delisted\n",
    "        return True\n",
    "\n",
    "def check_trading_days(ticker):\n",
    "    min_days=18\n",
    "    #the stock should have at least 18 trading days (we can check this by checking the last month)\n",
    "    stock = yf.Ticker(ticker)\n",
    "    try:\n",
    "        data = stock.history(period=\"1mo\") #fetches the stock info from the last month\n",
    "        #AI\n",
    "        trading_days = data.shape[0]\n",
    "        return trading_days >= min_days  # Must have at least `min_days` trading days\n",
    "    except Exception as e:\n",
    "        return False  # If error, assume it’s invalid\n",
    "\n",
    "def check_currency(ticker):\n",
    "    \"\"\"Check if the stock is in USD or CAD currency.\"\"\"\n",
    "    stock = yf.Ticker(ticker)\n",
    "    try:\n",
    "        currency = stock.info.get('currency', None)\n",
    "        return currency in ['USD', 'CAD']\n",
    "    except Exception as e:\n",
    "        return False  # If error, assume it’s invalid\n",
    "\n",
    "all_data = pd.read_csv('Tickers_Example.csv', header=None)\n",
    "\n",
    "all_data = pd.DataFrame(validity(all_data[0]))\n",
    "all_data.rename(columns = {0:'Ticker'}, inplace=True)\n",
    "\n",
    "# Passes the first (and only) column to the function\n",
    "# validity(all_data[0])"
   ]
  },
  {
   "cell_type": "code",
   "execution_count": 4,
   "metadata": {},
   "outputs": [],
   "source": [
    "# Create a list of all the stock betas (retrieved from yfinance) of stock tickers in a list\n",
    "def get_betas(tickers):\n",
    "    betas = []\n",
    "    \n",
    "    for ticker in tickers:\n",
    "        betas.append(yf.Ticker(ticker).info.get('beta'))\n",
    "\n",
    "    return betas"
   ]
  },
  {
   "cell_type": "code",
   "execution_count": 5,
   "metadata": {},
   "outputs": [
    {
     "data": {
      "text/html": [
       "<div>\n",
       "<style scoped>\n",
       "    .dataframe tbody tr th:only-of-type {\n",
       "        vertical-align: middle;\n",
       "    }\n",
       "\n",
       "    .dataframe tbody tr th {\n",
       "        vertical-align: top;\n",
       "    }\n",
       "\n",
       "    .dataframe thead th {\n",
       "        text-align: right;\n",
       "    }\n",
       "</style>\n",
       "<table border=\"1\" class=\"dataframe\">\n",
       "  <thead>\n",
       "    <tr style=\"text-align: right;\">\n",
       "      <th></th>\n",
       "      <th>Ticker</th>\n",
       "      <th>Beta</th>\n",
       "    </tr>\n",
       "  </thead>\n",
       "  <tbody>\n",
       "    <tr>\n",
       "      <th>0</th>\n",
       "      <td>AAPL</td>\n",
       "      <td>1.240</td>\n",
       "    </tr>\n",
       "    <tr>\n",
       "      <th>1</th>\n",
       "      <td>ABBV</td>\n",
       "      <td>0.613</td>\n",
       "    </tr>\n",
       "    <tr>\n",
       "      <th>2</th>\n",
       "      <td>ABT</td>\n",
       "      <td>0.722</td>\n",
       "    </tr>\n",
       "    <tr>\n",
       "      <th>3</th>\n",
       "      <td>ACN</td>\n",
       "      <td>1.245</td>\n",
       "    </tr>\n",
       "    <tr>\n",
       "      <th>4</th>\n",
       "      <td>AIG</td>\n",
       "      <td>1.069</td>\n",
       "    </tr>\n",
       "  </tbody>\n",
       "</table>\n",
       "</div>"
      ],
      "text/plain": [
       "  Ticker   Beta\n",
       "0   AAPL  1.240\n",
       "1   ABBV  0.613\n",
       "2    ABT  0.722\n",
       "3    ACN  1.245\n",
       "4    AIG  1.069"
      ]
     },
     "execution_count": 5,
     "metadata": {},
     "output_type": "execute_result"
    }
   ],
   "source": [
    "# Add a column containing all the stock betas to [all_data]\n",
    "all_data['Beta'] = get_betas(all_data['Ticker'])\n",
    "\n",
    "all_data.head()"
   ]
  },
  {
   "cell_type": "code",
   "execution_count": 9,
   "metadata": {},
   "outputs": [],
   "source": [
    "# Choose the max(24, data.length) stocks that match the market the closest\n",
    "def filter_betas(data):\n",
    "    # Remove any negative betas, as long as data ends with at least 12 characters\n",
    "    data.sort_values(by='Beta', axis=0, inplace=True, kind='quicksort')\n",
    "    data.drop(index=data[(data['Beta'] <= 0) & (len(data) > 12)].index, inplace=True)\n",
    "    data.reset_index(drop=True, inplace=True)\n",
    "\n",
    "    temp = []    # Create a list that stores how each stock's beta compares the market\n",
    "    for beta in data['Beta']:\n",
    "        if beta < 1:\n",
    "            temp.append(1/beta)\n",
    "        else:\n",
    "            temp.append(beta)\n",
    "\n",
    "    data = data.assign(temp=temp)     # Add temp to data\n",
    "    data.sort_values(by='temp', axis=0, inplace=True, kind='quicksort')    # Sort data by temp\n",
    "    data.drop(columns='temp', axis=1, inplace=True)    # Remove temp\n",
    "\n",
    "    data.index = range(0, len(data))    # Reassign the index\n",
    "    \n",
    "    return data[:24] if len(data) > 24 else data    # Return first 24 elements of data if it is greater than 24, other wise return data"
   ]
  },
  {
   "cell_type": "code",
   "execution_count": 59,
   "metadata": {},
   "outputs": [
    {
     "ename": "KeyError",
     "evalue": "'Beta'",
     "output_type": "error",
     "traceback": [
      "\u001b[1;31m---------------------------------------------------------------------------\u001b[0m",
      "\u001b[1;31mKeyError\u001b[0m                                  Traceback (most recent call last)",
      "\u001b[1;32m~\\AppData\\Local\\Temp\\ipykernel_1756\\2580020412.py\u001b[0m in \u001b[0;36m?\u001b[1;34m()\u001b[0m\n\u001b[1;32m----> 1\u001b[1;33m \u001b[0mfilter_betas\u001b[0m\u001b[1;33m(\u001b[0m\u001b[0mall_data\u001b[0m\u001b[1;33m)\u001b[0m\u001b[1;33m\u001b[0m\u001b[1;33m\u001b[0m\u001b[0m\n\u001b[0m\u001b[0;32m      2\u001b[0m \u001b[0mall_data\u001b[0m\u001b[1;33m.\u001b[0m\u001b[0mindex\u001b[0m \u001b[1;33m=\u001b[0m \u001b[0mall_data\u001b[0m\u001b[1;33m.\u001b[0m\u001b[0mindex\u001b[0m \u001b[1;33m+\u001b[0m \u001b[1;36m1\u001b[0m\u001b[1;33m\u001b[0m\u001b[1;33m\u001b[0m\u001b[0m\n",
      "\u001b[1;32m~\\AppData\\Local\\Temp\\ipykernel_1756\\656871302.py\u001b[0m in \u001b[0;36m?\u001b[1;34m(data)\u001b[0m\n\u001b[0;32m     20\u001b[0m \u001b[1;32mdef\u001b[0m \u001b[0mfilter_betas\u001b[0m\u001b[1;33m(\u001b[0m\u001b[0mdata\u001b[0m\u001b[1;33m)\u001b[0m\u001b[1;33m:\u001b[0m\u001b[1;33m\u001b[0m\u001b[1;33m\u001b[0m\u001b[0m\n\u001b[1;32m---> 21\u001b[1;33m     \u001b[0mdata\u001b[0m \u001b[1;33m=\u001b[0m \u001b[0mremove_negative_beta\u001b[0m\u001b[1;33m(\u001b[0m\u001b[0mdata\u001b[0m\u001b[1;33m)\u001b[0m\u001b[1;33m\u001b[0m\u001b[1;33m\u001b[0m\u001b[0m\n\u001b[0m\u001b[0;32m     22\u001b[0m \u001b[1;33m\u001b[0m\u001b[0m\n\u001b[0;32m     23\u001b[0m     \u001b[0mtemp\u001b[0m \u001b[1;33m=\u001b[0m \u001b[1;33m[\u001b[0m\u001b[1;33m]\u001b[0m    \u001b[1;31m# Create a list that stores how each stock's beta compares the market\u001b[0m\u001b[1;33m\u001b[0m\u001b[1;33m\u001b[0m\u001b[0m\n\u001b[0;32m     24\u001b[0m     \u001b[1;32mfor\u001b[0m \u001b[0mbeta\u001b[0m \u001b[1;32min\u001b[0m \u001b[0mdata\u001b[0m\u001b[1;33m[\u001b[0m\u001b[1;34m'Beta'\u001b[0m\u001b[1;33m]\u001b[0m\u001b[1;33m:\u001b[0m\u001b[1;33m\u001b[0m\u001b[1;33m\u001b[0m\u001b[0m\n",
      "\u001b[1;32m~\\AppData\\Local\\Temp\\ipykernel_1756\\656871302.py\u001b[0m in \u001b[0;36m?\u001b[1;34m(data)\u001b[0m\n\u001b[0;32m      2\u001b[0m \u001b[1;32mdef\u001b[0m \u001b[0mremove_negative_beta\u001b[0m\u001b[1;33m(\u001b[0m\u001b[0mdata\u001b[0m\u001b[1;33m)\u001b[0m\u001b[1;33m:\u001b[0m\u001b[1;33m\u001b[0m\u001b[1;33m\u001b[0m\u001b[0m\n\u001b[1;32m----> 3\u001b[1;33m     \u001b[0mdata\u001b[0m\u001b[1;33m.\u001b[0m\u001b[0msort_values\u001b[0m\u001b[1;33m(\u001b[0m\u001b[0mby\u001b[0m\u001b[1;33m=\u001b[0m\u001b[1;34m'Beta'\u001b[0m\u001b[1;33m,\u001b[0m \u001b[0maxis\u001b[0m\u001b[1;33m=\u001b[0m\u001b[1;36m0\u001b[0m\u001b[1;33m,\u001b[0m \u001b[0minplace\u001b[0m\u001b[1;33m=\u001b[0m\u001b[1;32mTrue\u001b[0m\u001b[1;33m,\u001b[0m \u001b[0mkind\u001b[0m\u001b[1;33m=\u001b[0m\u001b[1;34m'quicksort'\u001b[0m\u001b[1;33m)\u001b[0m\u001b[1;33m\u001b[0m\u001b[1;33m\u001b[0m\u001b[0m\n\u001b[0m\u001b[0;32m      4\u001b[0m     \u001b[1;32mfor\u001b[0m \u001b[0mi\u001b[0m \u001b[1;32min\u001b[0m \u001b[0mrange\u001b[0m\u001b[1;33m(\u001b[0m\u001b[0mlen\u001b[0m\u001b[1;33m(\u001b[0m\u001b[0mdata\u001b[0m\u001b[1;33m)\u001b[0m\u001b[1;33m)\u001b[0m\u001b[1;33m:\u001b[0m\u001b[1;33m\u001b[0m\u001b[1;33m\u001b[0m\u001b[0m\n\u001b[0;32m      5\u001b[0m         \u001b[1;32mif\u001b[0m \u001b[0mdata\u001b[0m\u001b[1;33m[\u001b[0m\u001b[1;34m'Beta'\u001b[0m\u001b[1;33m]\u001b[0m\u001b[1;33m.\u001b[0m\u001b[0miloc\u001b[0m\u001b[1;33m[\u001b[0m\u001b[0mi\u001b[0m\u001b[1;33m]\u001b[0m \u001b[1;33m<=\u001b[0m \u001b[1;36m0\u001b[0m\u001b[1;33m:\u001b[0m\u001b[1;33m\u001b[0m\u001b[1;33m\u001b[0m\u001b[0m\n\u001b[0;32m      6\u001b[0m             \u001b[0mdata\u001b[0m\u001b[1;33m.\u001b[0m\u001b[0mdrop\u001b[0m\u001b[1;33m(\u001b[0m\u001b[0mi\u001b[0m\u001b[1;33m,\u001b[0m \u001b[0minplace\u001b[0m\u001b[1;33m=\u001b[0m\u001b[1;32mTrue\u001b[0m\u001b[1;33m)\u001b[0m\u001b[1;33m\u001b[0m\u001b[1;33m\u001b[0m\u001b[0m\n",
      "\u001b[1;32mc:\\Users\\sharu\\anaconda3\\Lib\\site-packages\\pandas\\core\\frame.py\u001b[0m in \u001b[0;36m?\u001b[1;34m(self, by, axis, ascending, inplace, kind, na_position, ignore_index, key)\u001b[0m\n\u001b[0;32m   7185\u001b[0m             \u001b[1;33m)\u001b[0m\u001b[1;33m\u001b[0m\u001b[1;33m\u001b[0m\u001b[0m\n\u001b[0;32m   7186\u001b[0m         \u001b[1;32melif\u001b[0m \u001b[0mlen\u001b[0m\u001b[1;33m(\u001b[0m\u001b[0mby\u001b[0m\u001b[1;33m)\u001b[0m\u001b[1;33m:\u001b[0m\u001b[1;33m\u001b[0m\u001b[1;33m\u001b[0m\u001b[0m\n\u001b[0;32m   7187\u001b[0m             \u001b[1;31m# len(by) == 1\u001b[0m\u001b[1;33m\u001b[0m\u001b[1;33m\u001b[0m\u001b[0m\n\u001b[0;32m   7188\u001b[0m \u001b[1;33m\u001b[0m\u001b[0m\n\u001b[1;32m-> 7189\u001b[1;33m             \u001b[0mk\u001b[0m \u001b[1;33m=\u001b[0m \u001b[0mself\u001b[0m\u001b[1;33m.\u001b[0m\u001b[0m_get_label_or_level_values\u001b[0m\u001b[1;33m(\u001b[0m\u001b[0mby\u001b[0m\u001b[1;33m[\u001b[0m\u001b[1;36m0\u001b[0m\u001b[1;33m]\u001b[0m\u001b[1;33m,\u001b[0m \u001b[0maxis\u001b[0m\u001b[1;33m=\u001b[0m\u001b[0maxis\u001b[0m\u001b[1;33m)\u001b[0m\u001b[1;33m\u001b[0m\u001b[1;33m\u001b[0m\u001b[0m\n\u001b[0m\u001b[0;32m   7190\u001b[0m \u001b[1;33m\u001b[0m\u001b[0m\n\u001b[0;32m   7191\u001b[0m             \u001b[1;31m# need to rewrap column in Series to apply key function\u001b[0m\u001b[1;33m\u001b[0m\u001b[1;33m\u001b[0m\u001b[0m\n\u001b[0;32m   7192\u001b[0m             \u001b[1;32mif\u001b[0m \u001b[0mkey\u001b[0m \u001b[1;32mis\u001b[0m \u001b[1;32mnot\u001b[0m \u001b[1;32mNone\u001b[0m\u001b[1;33m:\u001b[0m\u001b[1;33m\u001b[0m\u001b[1;33m\u001b[0m\u001b[0m\n",
      "\u001b[1;32mc:\\Users\\sharu\\anaconda3\\Lib\\site-packages\\pandas\\core\\generic.py\u001b[0m in \u001b[0;36m?\u001b[1;34m(self, key, axis)\u001b[0m\n\u001b[0;32m   1907\u001b[0m             \u001b[0mvalues\u001b[0m \u001b[1;33m=\u001b[0m \u001b[0mself\u001b[0m\u001b[1;33m.\u001b[0m\u001b[0mxs\u001b[0m\u001b[1;33m(\u001b[0m\u001b[0mkey\u001b[0m\u001b[1;33m,\u001b[0m \u001b[0maxis\u001b[0m\u001b[1;33m=\u001b[0m\u001b[0mother_axes\u001b[0m\u001b[1;33m[\u001b[0m\u001b[1;36m0\u001b[0m\u001b[1;33m]\u001b[0m\u001b[1;33m)\u001b[0m\u001b[1;33m.\u001b[0m\u001b[0m_values\u001b[0m\u001b[1;33m\u001b[0m\u001b[1;33m\u001b[0m\u001b[0m\n\u001b[0;32m   1908\u001b[0m         \u001b[1;32melif\u001b[0m \u001b[0mself\u001b[0m\u001b[1;33m.\u001b[0m\u001b[0m_is_level_reference\u001b[0m\u001b[1;33m(\u001b[0m\u001b[0mkey\u001b[0m\u001b[1;33m,\u001b[0m \u001b[0maxis\u001b[0m\u001b[1;33m=\u001b[0m\u001b[0maxis\u001b[0m\u001b[1;33m)\u001b[0m\u001b[1;33m:\u001b[0m\u001b[1;33m\u001b[0m\u001b[1;33m\u001b[0m\u001b[0m\n\u001b[0;32m   1909\u001b[0m             \u001b[0mvalues\u001b[0m \u001b[1;33m=\u001b[0m \u001b[0mself\u001b[0m\u001b[1;33m.\u001b[0m\u001b[0maxes\u001b[0m\u001b[1;33m[\u001b[0m\u001b[0maxis\u001b[0m\u001b[1;33m]\u001b[0m\u001b[1;33m.\u001b[0m\u001b[0mget_level_values\u001b[0m\u001b[1;33m(\u001b[0m\u001b[0mkey\u001b[0m\u001b[1;33m)\u001b[0m\u001b[1;33m.\u001b[0m\u001b[0m_values\u001b[0m\u001b[1;33m\u001b[0m\u001b[1;33m\u001b[0m\u001b[0m\n\u001b[0;32m   1910\u001b[0m         \u001b[1;32melse\u001b[0m\u001b[1;33m:\u001b[0m\u001b[1;33m\u001b[0m\u001b[1;33m\u001b[0m\u001b[0m\n\u001b[1;32m-> 1911\u001b[1;33m             \u001b[1;32mraise\u001b[0m \u001b[0mKeyError\u001b[0m\u001b[1;33m(\u001b[0m\u001b[0mkey\u001b[0m\u001b[1;33m)\u001b[0m\u001b[1;33m\u001b[0m\u001b[1;33m\u001b[0m\u001b[0m\n\u001b[0m\u001b[0;32m   1912\u001b[0m \u001b[1;33m\u001b[0m\u001b[0m\n\u001b[0;32m   1913\u001b[0m         \u001b[1;31m# Check for duplicates\u001b[0m\u001b[1;33m\u001b[0m\u001b[1;33m\u001b[0m\u001b[0m\n\u001b[0;32m   1914\u001b[0m         \u001b[1;32mif\u001b[0m \u001b[0mvalues\u001b[0m\u001b[1;33m.\u001b[0m\u001b[0mndim\u001b[0m \u001b[1;33m>\u001b[0m \u001b[1;36m1\u001b[0m\u001b[1;33m:\u001b[0m\u001b[1;33m\u001b[0m\u001b[1;33m\u001b[0m\u001b[0m\n",
      "\u001b[1;31mKeyError\u001b[0m: 'Beta'"
     ]
    }
   ],
   "source": [
    "filter_betas(all_data)\n",
    "all_data.index = all_data.index + 1"
   ]
  },
  {
   "cell_type": "code",
   "execution_count": 68,
   "execution_count": null,
   "metadata": {},
   "outputs": [],
   "source": [
    "def portfolio_beta(portfolio):\n",
    "    beta = portfolio['Beta'] * portfolio['Weight']\n",
    "    info = {portfolio: beta}\n",
    "    return info"
   ]
  },
  {
   "cell_type": "code",
   "execution_count": 19,
   "metadata": {},
   "outputs": [],
   "source": [
    "def portfolio_tester(portfolios):\n",
    "    market_beta = yf.Ticker('^GSPC').info.get('beta')\n",
    "\n",
    "    if __name__ == '__main__':\n",
    "        pool = multiprocessing.Pool()\n",
    "        for i in range(0, len(portfolios)):\n",
    "            pool.apply_async(portfolio_beta, args=(portfolios, ))\n",
    "        pool.close()\n",
    "        pool.join()    "
   ]
  },
  {
   "cell_type": "code",
   "execution_count": 8,
   "metadata": {},
   "outputs": [],
   "source": [
    "tsx60_info = yf.Ticker('XIU.TO')\n",
    "tsx60 = tsx60_info.history(start=START_DATE, end=END_DATE, interval='1d')\n",
    "\n",
    "sp500_info = yf.Ticker('^GSPC')\n",
    "sp500 = sp500_info.history(start=START_DATE, end=END_DATE, interval='1d')\n",
    "sp500 = sp500.reindex(tsx60.index, method='nearest')\n",
    "\n",
    "market_returns = (tsx60['Close'].pct_change() + sp500['Close'].pct_change())/2\n",
    "market_returns = market_returns.dropna()\n",
    "market_returns.index = market_returns.index.strftime('%Y-%m-%d')\n",
    "market_returns_mean = market_returns.mean()"
   ]
  },
  {
   "cell_type": "code",
   "execution_count": null,
   "metadata": {},
   "outputs": [],
   "source": [
    "all_data"
   ]
  },
  {
   "cell_type": "code",
   "execution_count": null,
   "metadata": {},
   "outputs": [
    {
     "name": "stdout",
     "output_type": "stream",
     "text": [
      "STD Between Stock and Market Index: 0.002263370365972569\n"
     ]
    }
   ],
   "source": [
    "ticker_returns = pd.DataFrame()\n",
    "\n",
    "for ticker in all_data['Ticker']:\n",
    "        data = yf.Ticker(ticker).history(start=START_DATE, end=END_DATE)['Close']\n",
    "        ticker_returns[ticker] = data.pct_change().dropna()  # Calculate daily returns\n",
    "ticker_returns = ticker_returns.dropna()\n",
    "market_returns = market_returns.dropna()\n",
    "\n",
    "common_dates = ticker_returns.index.intersection(market_returns.index)\n",
    "ticker_returns = ticker_returns.loc[common_dates]\n",
    "market_returns = market_returns.loc[common_dates]\n",
    "\n",
    "portfolio_data = []\n",
    "\n",
    "\n",
    "def portfolio_generator(tickers):\n",
    "    global portfolio_data\n",
    "    min_result = float('inf')\n",
    "    num_stocks = 0 \n",
    "    final_weights = 0\n",
    "\n",
    "    for i in range(12, 25):  \n",
    "        selected_tickers = tickers[:i]  \n",
    "\n",
    "        def objective(weights):\n",
    "            return np.std(np.dot(ticker_returns[selected_tickers].values, weights) - market_returns.values)\n",
    "        \n",
    "        # Initial weights (equal distribution) - AI\n",
    "        initial_weights = [1 / len(selected_tickers)] * len(selected_tickers)\n",
    "        \n",
    "        # Constraints: Weights must sum to 1 - AI\n",
    "        constraints = {'type': 'eq', 'fun': lambda w: sum(w) - 1}\n",
    "        \n",
    "        # Bounds: Weights between 0 and 1- AI\n",
    "        bounds = [(0, 1)] * len(selected_tickers)\n",
    "        \n",
    "        result = minimize(objective, initial_weights, constraints=[constraints], bounds=bounds)\n",
    "        # print(result.fun)\n",
    "\n",
    "        \n",
    "        if result.success:\n",
    "            if result.fun < min_result:\n",
    "                min_result = result.fun\n",
    "                num_stocks = i\n",
    "                final_weights = result.x\n",
    "        \n",
    "        portfolio_data.append({\n",
    "            'tickers': ', '.join(selected_tickers), #AI\n",
    "            'weights': final_weights,\n",
    "            'STD Between Stock and Market Index': min_result,\n",
    "            'num_stocks': num_stocks\n",
    "        })\n",
    "        \n",
    "    return [pd.DataFrame(portfolio_data), min_result]\n",
    "        \n",
    "portfolio_df = portfolio_generator(all_data['Ticker'])[0]\n",
    "print(f\"Smallest STD Between Stock and Market Index:\", portfolio_generator(all_data['Ticker'])[1])"
   ]
  },
  {
   "cell_type": "markdown",
   "metadata": {},
   "source": [
    "## Contribution Declaration\n",
    "\n",
    "The following team members made a meaningful contribution to this assignment:\n",
    "\n",
    "Insert Names Here."
   ]
  }
 ],
 "metadata": {
  "kernelspec": {
   "display_name": "Python 3 (ipykernel)",
   "language": "python",
   "name": "python3"
  },
  "language_info": {
   "codemirror_mode": {
    "name": "ipython",
    "version": 3
   },
   "file_extension": ".py",
   "mimetype": "text/x-python",
   "name": "python",
   "nbconvert_exporter": "python",
   "pygments_lexer": "ipython3",
   "version": "3.9.19"
  }
 },
 "nbformat": 4,
 "nbformat_minor": 4
}
