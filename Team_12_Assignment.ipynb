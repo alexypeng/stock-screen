{
 "cells": [
  {
   "cell_type": "code",
   "execution_count": 3,
   "metadata": {},
   "outputs": [],
   "source": [
    "#These are the libraries you can use.  You may add any libraries directy related to threading if this is a direction\n",
    "#you wish to go (this is not from the course, so it's entirely on you if you wish to use threading).  Any\n",
    "#further libraries you wish to use you must email me, james@uwaterloo.ca, for permission.\n",
    "\n",
    "from IPython.display import display, Math, Latex\n",
    "\n",
    "import pandas as pd\n",
    "import numpy as np\n",
    "import numpy_financial as npf\n",
    "import yfinance as yf\n",
    "import matplotlib.pyplot as plt\n",
    "import random\n",
    "from datetime import datetime"
   ]
  },
  {
   "cell_type": "markdown",
   "metadata": {},
   "source": [
    "## Group Assignment\n",
    "### Team Number: 12\n",
    "### Team Member Names: Sharuga, Derek, Alex\n",
    "### Team Strategy Chosen: Market Meet"
   ]
  },
  {
   "cell_type": "markdown",
   "metadata": {},
   "source": [
    "Disclose any use of AI for this assignment below (detail where and how you used it).  Please see the course outline for acceptable uses of AI.\n"
   ]
  },
  {
   "cell_type": "code",
   "execution_count": null,
   "metadata": {},
   "outputs": [
    {
     "name": "stderr",
     "output_type": "stream",
     "text": [
      "$AGN: possibly delisted; no price data found  (period=1d) (Yahoo error = \"No data found, symbol may be delisted\")\n",
      "$CELG: possibly delisted; no price data found  (period=1d) (Yahoo error = \"No data found, symbol may be delisted\")\n",
      "$MON: possibly delisted; no price data found  (period=1d) (Yahoo error = \"No data found, symbol may be delisted\")\n",
      "$RTN: possibly delisted; no price data found  (period=1d) (Yahoo error = \"No data found, symbol may be delisted\")\n"
     ]
    },
    {
     "data": {
      "text/plain": [
       "['AAPL',\n",
       " 'ABBV',\n",
       " 'ABT',\n",
       " 'ACN',\n",
       " 'AIG',\n",
       " 'AMZN',\n",
       " 'AXP',\n",
       " 'BA',\n",
       " 'BAC',\n",
       " 'BB.TO',\n",
       " 'BIIB',\n",
       " 'BK',\n",
       " 'BLK',\n",
       " 'BMY',\n",
       " 'C',\n",
       " 'CAT',\n",
       " 'CL',\n",
       " 'KO',\n",
       " 'LLY',\n",
       " 'LMT',\n",
       " 'MO',\n",
       " 'MRK',\n",
       " 'PEP',\n",
       " 'PFE',\n",
       " 'PG',\n",
       " 'PM',\n",
       " 'PYPL',\n",
       " 'QCOM',\n",
       " 'RY.TO',\n",
       " 'SHOP.TO',\n",
       " 'T.TO',\n",
       " 'TD.TO',\n",
       " 'TXN',\n",
       " 'UNH',\n",
       " 'UNP',\n",
       " 'UPS',\n",
       " 'USB']"
      ]
     },
     "execution_count": 62,
     "metadata": {},
     "output_type": "execute_result"
    }
   ],
   "source": [
    "\n",
    "def validity(tickers):\n",
    "    final_list = []\n",
    "    for ticker in tickers:\n",
    "        #only append the stock to the final stock list if it is valid\n",
    "        if (not check_delist(ticker) and\n",
    "            check_currency(ticker) and\n",
    "            check_trading_days(ticker)):\n",
    "                final_list.append(ticker)\n",
    "    return final_list\n",
    "\n",
    "def check_delist(ticker):\n",
    "    stock = yf.Ticker(ticker)\n",
    "    try:\n",
    "        data = stock.history(period='1d')\n",
    "        if data.empty:\n",
    "            #if we can't find any data on the stock, it's delisted\n",
    "            return True\n",
    "        else:\n",
    "            #check that there is actually valid market data for this stock - AI\n",
    "            if 'Close' not in data.columns or data['Close'].isnull().all():\n",
    "                #if there are no valid close prices, the stock is delisted\n",
    "                return True\n",
    "            return False\n",
    "    except Exception as e:\n",
    "        #if there is an error in finding the stock's data, we can assume that it's delisted\n",
    "        return True\n",
    "\n",
    "def check_trading_days(ticker):\n",
    "    min_days=18\n",
    "    #the stock should have at least 18 trading days (we can check this by checking the last month)\n",
    "    stock = yf.Ticker(ticker)\n",
    "    try:\n",
    "        data = stock.history(period=\"1mo\") #fetches the stock info from the last month\n",
    "        #AI\n",
    "        trading_days = data.shape[0]\n",
    "        return trading_days >= min_days  # Must have at least `min_days` trading days\n",
    "    except Exception as e:\n",
    "        return False  # If error, assume it’s invalid\n",
    "\n",
    "def check_currency(ticker):\n",
    "    \"\"\"Check if the stock is in USD or CAD currency.\"\"\"\n",
    "    stock = yf.Ticker(ticker)\n",
    "    try:\n",
    "        currency = stock.info.get('currency', None)\n",
    "        return currency in ['USD', 'CAD']\n",
    "    except Exception as e:\n",
    "        return False  # If error, assume it’s invalid\n",
    "\n",
    "all_data = pd.read_csv('Tickers_Example.csv', header=None)\n",
    "\n",
    "# validity(all_data[0])"
   ]
  },
  {
   "cell_type": "code",
   "execution_count": 61,
   "metadata": {},
   "outputs": [],
   "source": [
    "tsx60_info = yf.Ticker('XIU.TO')\n",
    "tsx60 = tsx60_info.history(start='2023-10-01', end='2024-09-30', interval='1d')\n",
    "\n",
    "sp500_info = yf.Ticker('^GSPC')\n",
    "sp500 = sp500_info.history(start='2023-10-01', end='2024-09-30', interval='1d')\n",
    "sp500 = sp500.reindex(tsx60.index, method='nearest')\n",
    "\n",
    "market_avg = (tsx60['Close'].pct_change() + sp500['Close'].pct_change())/2\n",
    "market_avg = market_avg.dropna()\n",
    "market_avg.index = market_avg.index.strftime('%Y-%m-%d')\n",
    "market_avg_mean = market_avg.mean()"
   ]
  },
  {
   "cell_type": "markdown",
   "metadata": {},
   "source": [
    "## Contribution Declaration\n",
    "\n",
    "The following team members made a meaningful contribution to this assignment:\n",
    "\n",
    "Insert Names Here."
   ]
  }
 ],
 "metadata": {
  "kernelspec": {
   "display_name": "base",
   "language": "python",
   "name": "python3"
  },
  "language_info": {
   "codemirror_mode": {
    "name": "ipython",
    "version": 3
   },
   "file_extension": ".py",
   "mimetype": "text/x-python",
   "name": "python",
   "nbconvert_exporter": "python",
   "pygments_lexer": "ipython3",
   "version": "3.12.4"
  }
 },
 "nbformat": 4,
 "nbformat_minor": 2
}
