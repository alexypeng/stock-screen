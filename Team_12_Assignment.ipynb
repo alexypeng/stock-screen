{
 "cells": [
  {
   "cell_type": "code",
   "execution_count": 3,
   "metadata": {},
   "outputs": [],
   "source": [
    "#These are the libraries you can use.  You may add any libraries directy related to threading if this is a direction\n",
    "#you wish to go (this is not from the course, so it's entirely on you if you wish to use threading).  Any\n",
    "#further libraries you wish to use you must email me, james@uwaterloo.ca, for permission.\n",
    "\n",
    "from IPython.display import display, Math, Latex\n",
    "\n",
    "import pandas as pd\n",
    "import numpy as np\n",
    "import numpy_financial as npf\n",
    "import yfinance as yf\n",
    "import matplotlib.pyplot as plt\n",
    "import random\n",
    "from datetime import datetime"
   ]
  },
  {
   "cell_type": "code",
   "execution_count": 4,
   "metadata": {},
   "outputs": [
    {
     "name": "stdout",
     "output_type": "stream",
     "text": [
      "hello there\n"
     ]
    }
   ],
   "source": [
    "print('hello there')"
   ]
  },
  {
   "cell_type": "markdown",
   "metadata": {},
   "source": [
    "## Group Assignment\n",
    "### Team Number: 12\n",
    "### Team Member Names: Sharuga, Derek, Alex\n",
    "### Team Strategy Chosen: Market Beat"
   ]
  },
  {
   "cell_type": "markdown",
   "metadata": {},
   "source": [
    "Disclose any use of AI for this assignment below (detail where and how you used it).  Please see the course outline for acceptable uses of AI.\n"
   ]
  },
  {
   "cell_type": "code",
   "execution_count": 13,
   "metadata": {},
   "outputs": [
    {
     "data": {
      "text/html": [
       "<div>\n",
       "<style scoped>\n",
       "    .dataframe tbody tr th:only-of-type {\n",
       "        vertical-align: middle;\n",
       "    }\n",
       "\n",
       "    .dataframe tbody tr th {\n",
       "        vertical-align: top;\n",
       "    }\n",
       "\n",
       "    .dataframe thead th {\n",
       "        text-align: right;\n",
       "    }\n",
       "</style>\n",
       "<table border=\"1\" class=\"dataframe\">\n",
       "  <thead>\n",
       "    <tr style=\"text-align: right;\">\n",
       "      <th></th>\n",
       "      <th>AAPL</th>\n",
       "    </tr>\n",
       "  </thead>\n",
       "  <tbody>\n",
       "    <tr>\n",
       "      <th>0</th>\n",
       "      <td>ABBV</td>\n",
       "    </tr>\n",
       "    <tr>\n",
       "      <th>1</th>\n",
       "      <td>ABT</td>\n",
       "    </tr>\n",
       "    <tr>\n",
       "      <th>2</th>\n",
       "      <td>ACN</td>\n",
       "    </tr>\n",
       "    <tr>\n",
       "      <th>3</th>\n",
       "      <td>AGN</td>\n",
       "    </tr>\n",
       "    <tr>\n",
       "      <th>4</th>\n",
       "      <td>AIG</td>\n",
       "    </tr>\n",
       "  </tbody>\n",
       "</table>\n",
       "</div>"
      ],
      "text/plain": [
       "   AAPL\n",
       "0  ABBV\n",
       "1   ABT\n",
       "2   ACN\n",
       "3   AGN\n",
       "4   AIG"
      ]
     },
     "execution_count": 13,
     "metadata": {},
     "output_type": "execute_result"
    }
   ],
   "source": [
    "# # Function to calculate the Sharpe ratio for a given stock\n",
    "# def calculate_sharpe_ratio(stock_data, risk_free_rate=0.01):\n",
    "#     stock_data['returns'] = stock_data['Close'].pct_change()\n",
    "#     avg_return = stock_data['returns'].mean()\n",
    "#     std_dev = stock_data['returns'].std()\n",
    "    \n",
    "#     # Avoid division by zero\n",
    "#     if std_dev == 0:\n",
    "#         return 0\n",
    "#     sharpe_ratio = (avg_return - risk_free_rate) / std_dev\n",
    "#     return sharpe_ratio\n",
    "\n",
    "# # Function to compare correlations and add stocks to the portfolio\n",
    "# def compare_corr(portfolio_data, new_stock_data, threshold=0.5):\n",
    "#     new_stock_returns = new_stock_data['returns']\n",
    "    \n",
    "#     for stock_data in portfolio_data:\n",
    "#         portfolio_returns = stock_data['returns']\n",
    "#         correlation = portfolio_returns.corr(new_stock_returns)\n",
    "        \n",
    "#         # If correlation is below the threshold, add the stock to the portfolio\n",
    "#         if correlation > threshold:\n",
    "#             return False\n",
    "#     return True\n",
    "\n",
    "# # Main stock screener function\n",
    "# def stock_screener(ticker_list):\n",
    "#     portfolio = []\n",
    "    \n",
    "#     for ticker in ticker_list:\n",
    "#         stock_data = yf.Ticker(ticker).history(start='2021-01-04', end='2024-03-01', interval='1d')\n",
    "#         sharpe_ratio = calculate_sharpe_ratio(stock_data)\n",
    "#         if not portfolio:\n",
    "#             portfolio.append({'ticker': ticker, 'sharpe_ratio': sharpe_ratio, 'data': stock_data})\n",
    "        \n",
    "#         else:\n",
    "#             highest_sharpe_stock = max(portfolio, key=lambda x: x['sharpe_ratio'])\n",
    "            \n",
    "#             if sharpe_ratio > highest_sharpe_stock['sharpe_ratio'] and compare_corr([stock['data'] for stock in portfolio], stock_data):\n",
    "#                 portfolio.append({'ticker': ticker, 'sharpe_ratio': sharpe_ratio, 'data': stock_data})\n",
    "\n",
    "#     return portfolio\n",
    "\n",
    "# # Assuming the tickers are in a CSV file provided\n",
    "# all_data = pd.read_csv('Tickers_Example.csv')  # Ensure it has columns like 'Ticker' and 'Close'\n",
    "# ticker_list = all_data.iloc[:, -1].tolist()  # Rightmost column for tickers\n",
    "# portfolio = stock_screener(ticker_list)\n",
    "\n",
    "# for stock in portfolio:\n",
    "#     print(f\"Ticker: {stock['ticker']} - Sharpe Ratio: {stock['sharpe_ratio']}\")\n",
    "all_data.head()"
   ]
  },
  {
   "cell_type": "code",
   "execution_count": 39,
   "metadata": {},
   "outputs": [
    {
     "name": "stderr",
     "output_type": "stream",
     "text": [
      "$AGN: possibly delisted; no price data found  (period=1d) (Yahoo error = \"No data found, symbol may be delisted\")\n",
      "$CELG: possibly delisted; no price data found  (period=1d) (Yahoo error = \"No data found, symbol may be delisted\")\n",
      "$MON: possibly delisted; no price data found  (period=1d) (Yahoo error = \"No data found, symbol may be delisted\")\n",
      "$RTN: possibly delisted; no price data found  (period=1d) (Yahoo error = \"No data found, symbol may be delisted\")\n"
     ]
    },
    {
     "data": {
      "text/plain": [
       "['AAPL',\n",
       " 'ABBV',\n",
       " 'ABT',\n",
       " 'ACN',\n",
       " 'AIG',\n",
       " 'AMZN',\n",
       " 'AXP',\n",
       " 'BA',\n",
       " 'BAC',\n",
       " 'BB.TO',\n",
       " 'BIIB',\n",
       " 'BK',\n",
       " 'BLK',\n",
       " 'BMY',\n",
       " 'C',\n",
       " 'CAT',\n",
       " 'CL',\n",
       " 'KO',\n",
       " 'LLY',\n",
       " 'LMT',\n",
       " 'MO',\n",
       " 'MRK',\n",
       " 'PEP',\n",
       " 'PFE',\n",
       " 'PG',\n",
       " 'PM',\n",
       " 'PYPL',\n",
       " 'QCOM',\n",
       " 'RY.TO',\n",
       " 'SHOP.TO',\n",
       " 'T.TO',\n",
       " 'TD.TO',\n",
       " 'TXN',\n",
       " 'UNH',\n",
       " 'UNP',\n",
       " 'UPS',\n",
       " 'USB']"
      ]
     },
     "execution_count": 39,
     "metadata": {},
     "output_type": "execute_result"
    }
   ],
   "source": [
    "\n",
    "def validity(tickers):\n",
    "    final_list = []\n",
    "    for ticker in tickers:\n",
    "        if (not check_delist(ticker) and\n",
    "            check_currency(ticker) and\n",
    "            check_trading_days(ticker)):\n",
    "                final_list.append(ticker)\n",
    "    return final_list\n",
    "\n",
    "def check_delist(ticker):\n",
    "    stock = yf.Ticker(ticker)\n",
    "    try:\n",
    "        data = stock.history(period='1d')  # Fetch recent data\n",
    "        if data.empty:\n",
    "            # print(f\"  {ticker} is delisted (no data).\")\n",
    "            return True  # No data means it could be delisted\n",
    "        else:\n",
    "            # Ensure that there is actually valid market data for this stock - AI\n",
    "            if 'Close' not in data.columns or data['Close'].isnull().all():\n",
    "                # print(f\"  {ticker} has no valid close prices.\")\n",
    "                return False  # No valid close prices could also indicate delisting\n",
    "            return False  # Valid stock with data\n",
    "    except Exception as e:\n",
    "        print(f\"  Error checking {ticker} delist status: {e}\")\n",
    "        return True  # Error in fetching data; assume delisted or unavailable\n",
    "\n",
    "def check_trading_days(ticker):\n",
    "    min_days=18\n",
    "    \"\"\"Check if a stock has at least 18 trading days in the last month.\"\"\"\n",
    "    stock = yf.Ticker(ticker)\n",
    "    try:\n",
    "        data = stock.history(period=\"1mo\")  # Last month\n",
    "        #AI\n",
    "        trading_days = data.shape[0]\n",
    "        return trading_days >= min_days  # Must have at least `min_days` trading days\n",
    "    except Exception as e:\n",
    "        return False  # If error, assume it’s invalid\n",
    "\n",
    "def check_currency(ticker):\n",
    "    \"\"\"Check if the stock is in USD or CAD currency.\"\"\"\n",
    "    stock = yf.Ticker(ticker)\n",
    "    try:\n",
    "        currency = stock.info.get('currency', None)\n",
    "        return currency in ['USD', 'CAD']\n",
    "    except Exception as e:\n",
    "        return False  # If error, assume it’s invalid\n",
    "\n",
    "\n",
    "# Load the CSV file without headers -- AI\n",
    "all_data = pd.read_csv('Tickers_Example.csv', header=None)\n",
    "\n",
    "# Passes the first (and only) column to the function\n",
    "validity(all_data[0])\n"
   ]
  },
  {
   "cell_type": "markdown",
   "metadata": {},
   "source": [
    "## Contribution Declaration\n",
    "\n",
    "The following team members made a meaningful contribution to this assignment:\n",
    "\n",
    "Insert Names Here."
   ]
  }
 ],
 "metadata": {
  "kernelspec": {
   "display_name": "base",
   "language": "python",
   "name": "python3"
  },
  "language_info": {
   "codemirror_mode": {
    "name": "ipython",
    "version": 3
   },
   "file_extension": ".py",
   "mimetype": "text/x-python",
   "name": "python",
   "nbconvert_exporter": "python",
   "pygments_lexer": "ipython3",
   "version": "3.12.4"
  }
 },
 "nbformat": 4,
 "nbformat_minor": 2
}
