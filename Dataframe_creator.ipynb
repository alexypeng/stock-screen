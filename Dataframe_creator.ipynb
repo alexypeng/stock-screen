{
 "cells": [
  {
   "cell_type": "code",
   "execution_count": 3,
   "id": "4405e384-ae2a-41df-8bb1-5f01cc01ee58",
   "metadata": {},
   "outputs": [],
   "source": [
    "#These are the libraries you can use.  You may add any libraries directy related to threading if this is a direction\n",
    "#you wish to go (this is not from the course, so it's entirely on you if you wish to use threading).  Any\n",
    "#further libraries you wish to use you must email me, james@uwaterloo.ca, for permission.\n",
    "\n",
    "from IPython.display import display, Math, Latex\n",
    "\n",
    "import pandas as pd\n",
    "import numpy as np\n",
    "import numpy_financial as npf\n",
    "import yfinance as yf\n",
    "import matplotlib.pyplot as plt\n",
    "import random\n",
    "from datetime import datetime\n",
    "from scipy.optimize import minimize"
   ]
  },
  {
   "cell_type": "code",
   "execution_count": 4,
   "id": "25c75610-8338-4c75-abb9-ad13855b9e0d",
   "metadata": {},
   "outputs": [],
   "source": [
    "#The following code takes a list of tickers from a csv file, a start date, and an end date. It then generates a dataframe with the daily returns\n",
    "#of every portfolio within the specified start and end date. It also does this with the two market indexes.\n",
    "\n",
    "#Another function takes the portfolio as a parameter, and flags every month (in a print function) in which there are \n",
    "#less than 18 rows available for any stock. The function then removes that month's data.\n",
    "\n",
    "#A third function generates a parallel dataframe that shows the percent daily returns of each stock. The percent returns of the two indices are\n",
    "#calculated and another column showing the final \"index\" average is made."
   ]
  },
  {
   "cell_type": "code",
   "execution_count": 5,
   "id": "a55de6c8-f6d8-4367-8e63-0c832e438539",
   "metadata": {},
   "outputs": [],
   "source": [
    "START_DATE = '2023-11-25'\n",
    "END_DATE = '2024-11-19'"
   ]
  },
  {
   "cell_type": "code",
   "execution_count": 6,
   "id": "f75a77d8-8d2f-4227-8882-c4d0f9765559",
   "metadata": {},
   "outputs": [
    {
     "ename": "FileNotFoundError",
     "evalue": "[Errno 2] No such file or directory: 'Ticker_list.csv'",
     "output_type": "error",
     "traceback": [
      "\u001b[1;31m---------------------------------------------------------------------------\u001b[0m",
      "\u001b[1;31mFileNotFoundError\u001b[0m                         Traceback (most recent call last)",
      "Cell \u001b[1;32mIn[6], line 1\u001b[0m\n\u001b[1;32m----> 1\u001b[0m ticker_lst \u001b[38;5;241m=\u001b[39m pd\u001b[38;5;241m.\u001b[39mread_csv(\u001b[38;5;124m'\u001b[39m\u001b[38;5;124mTicker_list.csv\u001b[39m\u001b[38;5;124m'\u001b[39m)[\u001b[38;5;124m\"\u001b[39m\u001b[38;5;124mTicker\u001b[39m\u001b[38;5;124m\"\u001b[39m]\u001b[38;5;241m.\u001b[39mtolist()\n\u001b[0;32m      2\u001b[0m \u001b[38;5;28mprint\u001b[39m(ticker_lst)\n\u001b[0;32m      3\u001b[0m index_lst \u001b[38;5;241m=\u001b[39m [\u001b[38;5;124m\"\u001b[39m\u001b[38;5;124mXIU.TO\u001b[39m\u001b[38;5;124m\"\u001b[39m,\u001b[38;5;124m\"\u001b[39m\u001b[38;5;124m^GSPC\u001b[39m\u001b[38;5;124m\"\u001b[39m]\n",
      "File \u001b[1;32m~\\anaconda3\\Lib\\site-packages\\pandas\\io\\parsers\\readers.py:1026\u001b[0m, in \u001b[0;36mread_csv\u001b[1;34m(filepath_or_buffer, sep, delimiter, header, names, index_col, usecols, dtype, engine, converters, true_values, false_values, skipinitialspace, skiprows, skipfooter, nrows, na_values, keep_default_na, na_filter, verbose, skip_blank_lines, parse_dates, infer_datetime_format, keep_date_col, date_parser, date_format, dayfirst, cache_dates, iterator, chunksize, compression, thousands, decimal, lineterminator, quotechar, quoting, doublequote, escapechar, comment, encoding, encoding_errors, dialect, on_bad_lines, delim_whitespace, low_memory, memory_map, float_precision, storage_options, dtype_backend)\u001b[0m\n\u001b[0;32m   1013\u001b[0m kwds_defaults \u001b[38;5;241m=\u001b[39m _refine_defaults_read(\n\u001b[0;32m   1014\u001b[0m     dialect,\n\u001b[0;32m   1015\u001b[0m     delimiter,\n\u001b[1;32m   (...)\u001b[0m\n\u001b[0;32m   1022\u001b[0m     dtype_backend\u001b[38;5;241m=\u001b[39mdtype_backend,\n\u001b[0;32m   1023\u001b[0m )\n\u001b[0;32m   1024\u001b[0m kwds\u001b[38;5;241m.\u001b[39mupdate(kwds_defaults)\n\u001b[1;32m-> 1026\u001b[0m \u001b[38;5;28;01mreturn\u001b[39;00m _read(filepath_or_buffer, kwds)\n",
      "File \u001b[1;32m~\\anaconda3\\Lib\\site-packages\\pandas\\io\\parsers\\readers.py:620\u001b[0m, in \u001b[0;36m_read\u001b[1;34m(filepath_or_buffer, kwds)\u001b[0m\n\u001b[0;32m    617\u001b[0m _validate_names(kwds\u001b[38;5;241m.\u001b[39mget(\u001b[38;5;124m\"\u001b[39m\u001b[38;5;124mnames\u001b[39m\u001b[38;5;124m\"\u001b[39m, \u001b[38;5;28;01mNone\u001b[39;00m))\n\u001b[0;32m    619\u001b[0m \u001b[38;5;66;03m# Create the parser.\u001b[39;00m\n\u001b[1;32m--> 620\u001b[0m parser \u001b[38;5;241m=\u001b[39m TextFileReader(filepath_or_buffer, \u001b[38;5;241m*\u001b[39m\u001b[38;5;241m*\u001b[39mkwds)\n\u001b[0;32m    622\u001b[0m \u001b[38;5;28;01mif\u001b[39;00m chunksize \u001b[38;5;129;01mor\u001b[39;00m iterator:\n\u001b[0;32m    623\u001b[0m     \u001b[38;5;28;01mreturn\u001b[39;00m parser\n",
      "File \u001b[1;32m~\\anaconda3\\Lib\\site-packages\\pandas\\io\\parsers\\readers.py:1620\u001b[0m, in \u001b[0;36mTextFileReader.__init__\u001b[1;34m(self, f, engine, **kwds)\u001b[0m\n\u001b[0;32m   1617\u001b[0m     \u001b[38;5;28mself\u001b[39m\u001b[38;5;241m.\u001b[39moptions[\u001b[38;5;124m\"\u001b[39m\u001b[38;5;124mhas_index_names\u001b[39m\u001b[38;5;124m\"\u001b[39m] \u001b[38;5;241m=\u001b[39m kwds[\u001b[38;5;124m\"\u001b[39m\u001b[38;5;124mhas_index_names\u001b[39m\u001b[38;5;124m\"\u001b[39m]\n\u001b[0;32m   1619\u001b[0m \u001b[38;5;28mself\u001b[39m\u001b[38;5;241m.\u001b[39mhandles: IOHandles \u001b[38;5;241m|\u001b[39m \u001b[38;5;28;01mNone\u001b[39;00m \u001b[38;5;241m=\u001b[39m \u001b[38;5;28;01mNone\u001b[39;00m\n\u001b[1;32m-> 1620\u001b[0m \u001b[38;5;28mself\u001b[39m\u001b[38;5;241m.\u001b[39m_engine \u001b[38;5;241m=\u001b[39m \u001b[38;5;28mself\u001b[39m\u001b[38;5;241m.\u001b[39m_make_engine(f, \u001b[38;5;28mself\u001b[39m\u001b[38;5;241m.\u001b[39mengine)\n",
      "File \u001b[1;32m~\\anaconda3\\Lib\\site-packages\\pandas\\io\\parsers\\readers.py:1880\u001b[0m, in \u001b[0;36mTextFileReader._make_engine\u001b[1;34m(self, f, engine)\u001b[0m\n\u001b[0;32m   1878\u001b[0m     \u001b[38;5;28;01mif\u001b[39;00m \u001b[38;5;124m\"\u001b[39m\u001b[38;5;124mb\u001b[39m\u001b[38;5;124m\"\u001b[39m \u001b[38;5;129;01mnot\u001b[39;00m \u001b[38;5;129;01min\u001b[39;00m mode:\n\u001b[0;32m   1879\u001b[0m         mode \u001b[38;5;241m+\u001b[39m\u001b[38;5;241m=\u001b[39m \u001b[38;5;124m\"\u001b[39m\u001b[38;5;124mb\u001b[39m\u001b[38;5;124m\"\u001b[39m\n\u001b[1;32m-> 1880\u001b[0m \u001b[38;5;28mself\u001b[39m\u001b[38;5;241m.\u001b[39mhandles \u001b[38;5;241m=\u001b[39m get_handle(\n\u001b[0;32m   1881\u001b[0m     f,\n\u001b[0;32m   1882\u001b[0m     mode,\n\u001b[0;32m   1883\u001b[0m     encoding\u001b[38;5;241m=\u001b[39m\u001b[38;5;28mself\u001b[39m\u001b[38;5;241m.\u001b[39moptions\u001b[38;5;241m.\u001b[39mget(\u001b[38;5;124m\"\u001b[39m\u001b[38;5;124mencoding\u001b[39m\u001b[38;5;124m\"\u001b[39m, \u001b[38;5;28;01mNone\u001b[39;00m),\n\u001b[0;32m   1884\u001b[0m     compression\u001b[38;5;241m=\u001b[39m\u001b[38;5;28mself\u001b[39m\u001b[38;5;241m.\u001b[39moptions\u001b[38;5;241m.\u001b[39mget(\u001b[38;5;124m\"\u001b[39m\u001b[38;5;124mcompression\u001b[39m\u001b[38;5;124m\"\u001b[39m, \u001b[38;5;28;01mNone\u001b[39;00m),\n\u001b[0;32m   1885\u001b[0m     memory_map\u001b[38;5;241m=\u001b[39m\u001b[38;5;28mself\u001b[39m\u001b[38;5;241m.\u001b[39moptions\u001b[38;5;241m.\u001b[39mget(\u001b[38;5;124m\"\u001b[39m\u001b[38;5;124mmemory_map\u001b[39m\u001b[38;5;124m\"\u001b[39m, \u001b[38;5;28;01mFalse\u001b[39;00m),\n\u001b[0;32m   1886\u001b[0m     is_text\u001b[38;5;241m=\u001b[39mis_text,\n\u001b[0;32m   1887\u001b[0m     errors\u001b[38;5;241m=\u001b[39m\u001b[38;5;28mself\u001b[39m\u001b[38;5;241m.\u001b[39moptions\u001b[38;5;241m.\u001b[39mget(\u001b[38;5;124m\"\u001b[39m\u001b[38;5;124mencoding_errors\u001b[39m\u001b[38;5;124m\"\u001b[39m, \u001b[38;5;124m\"\u001b[39m\u001b[38;5;124mstrict\u001b[39m\u001b[38;5;124m\"\u001b[39m),\n\u001b[0;32m   1888\u001b[0m     storage_options\u001b[38;5;241m=\u001b[39m\u001b[38;5;28mself\u001b[39m\u001b[38;5;241m.\u001b[39moptions\u001b[38;5;241m.\u001b[39mget(\u001b[38;5;124m\"\u001b[39m\u001b[38;5;124mstorage_options\u001b[39m\u001b[38;5;124m\"\u001b[39m, \u001b[38;5;28;01mNone\u001b[39;00m),\n\u001b[0;32m   1889\u001b[0m )\n\u001b[0;32m   1890\u001b[0m \u001b[38;5;28;01massert\u001b[39;00m \u001b[38;5;28mself\u001b[39m\u001b[38;5;241m.\u001b[39mhandles \u001b[38;5;129;01mis\u001b[39;00m \u001b[38;5;129;01mnot\u001b[39;00m \u001b[38;5;28;01mNone\u001b[39;00m\n\u001b[0;32m   1891\u001b[0m f \u001b[38;5;241m=\u001b[39m \u001b[38;5;28mself\u001b[39m\u001b[38;5;241m.\u001b[39mhandles\u001b[38;5;241m.\u001b[39mhandle\n",
      "File \u001b[1;32m~\\anaconda3\\Lib\\site-packages\\pandas\\io\\common.py:873\u001b[0m, in \u001b[0;36mget_handle\u001b[1;34m(path_or_buf, mode, encoding, compression, memory_map, is_text, errors, storage_options)\u001b[0m\n\u001b[0;32m    868\u001b[0m \u001b[38;5;28;01melif\u001b[39;00m \u001b[38;5;28misinstance\u001b[39m(handle, \u001b[38;5;28mstr\u001b[39m):\n\u001b[0;32m    869\u001b[0m     \u001b[38;5;66;03m# Check whether the filename is to be opened in binary mode.\u001b[39;00m\n\u001b[0;32m    870\u001b[0m     \u001b[38;5;66;03m# Binary mode does not support 'encoding' and 'newline'.\u001b[39;00m\n\u001b[0;32m    871\u001b[0m     \u001b[38;5;28;01mif\u001b[39;00m ioargs\u001b[38;5;241m.\u001b[39mencoding \u001b[38;5;129;01mand\u001b[39;00m \u001b[38;5;124m\"\u001b[39m\u001b[38;5;124mb\u001b[39m\u001b[38;5;124m\"\u001b[39m \u001b[38;5;129;01mnot\u001b[39;00m \u001b[38;5;129;01min\u001b[39;00m ioargs\u001b[38;5;241m.\u001b[39mmode:\n\u001b[0;32m    872\u001b[0m         \u001b[38;5;66;03m# Encoding\u001b[39;00m\n\u001b[1;32m--> 873\u001b[0m         handle \u001b[38;5;241m=\u001b[39m \u001b[38;5;28mopen\u001b[39m(\n\u001b[0;32m    874\u001b[0m             handle,\n\u001b[0;32m    875\u001b[0m             ioargs\u001b[38;5;241m.\u001b[39mmode,\n\u001b[0;32m    876\u001b[0m             encoding\u001b[38;5;241m=\u001b[39mioargs\u001b[38;5;241m.\u001b[39mencoding,\n\u001b[0;32m    877\u001b[0m             errors\u001b[38;5;241m=\u001b[39merrors,\n\u001b[0;32m    878\u001b[0m             newline\u001b[38;5;241m=\u001b[39m\u001b[38;5;124m\"\u001b[39m\u001b[38;5;124m\"\u001b[39m,\n\u001b[0;32m    879\u001b[0m         )\n\u001b[0;32m    880\u001b[0m     \u001b[38;5;28;01melse\u001b[39;00m:\n\u001b[0;32m    881\u001b[0m         \u001b[38;5;66;03m# Binary mode\u001b[39;00m\n\u001b[0;32m    882\u001b[0m         handle \u001b[38;5;241m=\u001b[39m \u001b[38;5;28mopen\u001b[39m(handle, ioargs\u001b[38;5;241m.\u001b[39mmode)\n",
      "\u001b[1;31mFileNotFoundError\u001b[0m: [Errno 2] No such file or directory: 'Ticker_list.csv'"
     ]
    }
   ],
   "source": [
    "\n",
    "ticker_lst = pd.read_csv('Ticker_list.csv')[\"Ticker\"].tolist()\n",
    "print(ticker_lst)\n",
    "index_lst = [\"XIU.TO\",\"^GSPC\"]\n",
    "\n",
    "exch_rate = yf.download(\"CADUSD=x\",start=\"2024-11-20\", end=\"2024-11-21\")[\"Close\"].iloc[0] #MUST BE CHANGED TO PULL NOVEMBER 22ND\n",
    "\n",
    "#Takes a yf.Ticker \"ticker\", checks if the ticker is in canadian dollars. If so, it will just do a simple API pull for the price history.\n",
    "#If the price is listed in USD, a conversion operation will simply be applied to each price.\n",
    "def yfin_pull_convert_USD(ticker):\n",
    "    listed_currency = ticker.fast_info[\"currency\"]\n",
    "    if listed_currency == \"CAD\":\n",
    "        return ticker.history(start=START_DATE, end=END_DATE, interval=\"1d\")[\"Close\"]\n",
    "    if listed_currency == \"USD\":\n",
    "        return ticker.history(start=START_DATE, end=END_DATE, interval=\"1d\")[\"Close\"] * (1/exch_rate)\n",
    "    else: print(\"ticker currency is not in USD or CAD error\")\n",
    "\n",
    "#Test cases\n",
    "#display(yf.Ticker(\"NVDA\").history(start=START_DATE, end=END_DATE, interval=\"1d\")[\"Close\"]\n",
    "#yfin_pull_convert_USD(yf.Ticker(\"NVDA\"))\n",
    "\n",
    "#Main function to store the stock prices of the ticker\n",
    "def gen_tickers(tlist, ilist):\n",
    "    ret_dataframe = pd.DataFrame()\n",
    "    for i_str in ilist:\n",
    "        index_ticker = yf.Ticker(i_str)\n",
    "        ret_dataframe[i_str] = yfin_pull_convert_USD(index_ticker)\n",
    "    \n",
    "    for t_str in tlist:\n",
    "        ticker = yf.Ticker(t_str)\n",
    "        ret_dataframe[t_str] = yfin_pull_convert_USD(ticker)\n",
    "    return ret_dataframe\n",
    "\n",
    "#Function call: stores a dataframe of index values and stock values\n",
    "stock_values = gen_tickers(ticker_lst,index_lst)"
   ]
  },
  {
   "cell_type": "code",
   "execution_count": null,
   "id": "022c06a7-da55-4a71-9414-ab59df3b8aa8",
   "metadata": {},
   "outputs": [],
   "source": [
    "market_label = \"Market Returns\"\n",
    "#Function that transforms a list of values into a list of percent returns.\n",
    "#Also adds a column of the simple average returns of the index tickers.\n",
    "def convert_pct_returns(stock_value_df):\n",
    "    ret_dataframe = stock_value_df.interpolate().pct_change()\n",
    "    ret_dataframe.dropna(inplace=True)\n",
    "    ret_dataframe[market_label] = ret_dataframe[index_lst].mean(axis=1)\n",
    "    df_col_order = index_lst + [\"Market Returns\"] + ticker_lst\n",
    "    ret_dataframe = ret_dataframe[df_col_order]\n",
    "    return ret_dataframe\n",
    "\n",
    "stock_returns = convert_pct_returns(stock_values)\n",
    "\n",
    "display(stock_returns)"
   ]
  },
  {
   "cell_type": "code",
   "execution_count": null,
   "id": "54a1d4e8-b031-4252-b5e3-ef4f43091385",
   "metadata": {},
   "outputs": [],
   "source": [
    "#Creating the correlation matrix: takes a dataframe of values and a string of columns to drop to make the correlation matrix\n",
    "def correl(data, dropvalue):\n",
    "    data_marketdrop = data.drop(labels=dropvalue, axis=1)\n",
    "    ret_corr = data_marketdrop.corr()\n",
    "    return ret_corr\n",
    "\n",
    "stock_correlations = correl(stock_returns, [market_label] + index_lst)\n",
    "#Apply a format to the DataFrame\n",
    "display(stock_correlations.style.background_gradient(cmap='RdYlGn_r'))\n"
   ]
  },
  {
   "cell_type": "code",
   "execution_count": null,
   "id": "ab39f841-4d60-49d2-affb-fc2c3b260f67",
   "metadata": {},
   "outputs": [],
   "source": [
    "\n",
    "\n",
    "#finding the ticker coordinates of the lowest correlation value (AI)\n",
    "def low_correl_ticker_pairs(correlation_matrix):\n",
    "    if correlation_matrix.shape[0] > 1:\n",
    "        correl_pairs = correlation_matrix.unstack()\n",
    "        correl_pairs = correl_pairs[correl_pairs.index.get_level_values(0) != correl_pairs.index.get_level_values(1)]\n",
    "        lowest_corr_pair = correl_pairs.idxmin()\n",
    "        lowest_corr_value = correl_pairs.min()\n",
    "        return list(lowest_corr_pair)\n",
    "    else:\n",
    "        remaining_column_ticker = correlation_matrix.columns[0]\n",
    "        return [remaining_column_ticker]\n",
    "\n",
    "#recursing through the entire correlation matrix to extract every correlation pair\n",
    "def corr_pair_extract(correl_matrix):\n",
    "    #creating a list to store low-correlation pairs into\n",
    "    low_corr_pairs = []\n",
    "    while correl_matrix.shape[0] > 0:\n",
    "        pair = low_correl_ticker_pairs(correl_matrix)\n",
    "        #removing the tickers after they are packaged into a correlation pair\n",
    "        if isinstance(pair, str):\n",
    "            ticker1 = pair\n",
    "            correl_matrix = correl_matrix.drop(ticker1, axis=0)\n",
    "            correl_matrix = correl_matrix.drop(ticker1, axis=1)\n",
    "        else: \n",
    "            low_corr_pairs.append(pair)\n",
    "            correl_matrix = correl_matrix.drop(pair, axis=0)\n",
    "            correl_matrix = correl_matrix.drop(pair, axis=1)\n",
    "    return low_corr_pairs\n",
    "\n",
    "#running the correlation pairing function and storing it in variable \"stock pairs\"\n",
    "stock_pairs = corr_pair_extract(stock_correlations)\n",
    "print(stock_pairs)"
   ]
  },
  {
   "cell_type": "code",
   "execution_count": null,
   "id": "da5bc764-3692-42e1-9a3c-5a2702839378",
   "metadata": {},
   "outputs": [],
   "source": [
    "#Arbitrarily assign a seed to keep results consistent\n",
    "random.seed(21152764)\n",
    "\n",
    "#This part creates lists of stocks, ranging from sizes 12 to 24, 5 of each size, which randomly selects stocks.\n",
    "def make_port_list(stock_pairs):\n",
    "    ret_list = []\n",
    "    #iterates through the minimum selectable stock pairs (6) and the maximum (length of the stock pairs)\n",
    "    for i in range(6, len(stock_pairs)):\n",
    "        #simple iteration of 5 times\n",
    "        for j in range(0,5):\n",
    "            #generates a random list of indexes to pick from the stock pairs\n",
    "            rand_list = random.sample(range(0,len(stock_pairs)-1), i)\n",
    "            portfolio = []\n",
    "            for k in rand_list:\n",
    "                portfolio += stock_pairs[k]\n",
    "            ret_list.append(portfolio)\n",
    "    return ret_list\n",
    "\n",
    "port_list = make_port_list(stock_pairs)\n",
    "display(port_list)\n",
    "len(port_list)"
   ]
  }
 ],
 "metadata": {
  "kernelspec": {
   "display_name": "Python 3 (ipykernel)",
   "language": "python",
   "name": "python3"
  },
  "language_info": {
   "codemirror_mode": {
    "name": "ipython",
    "version": 3
   },
   "file_extension": ".py",
   "mimetype": "text/x-python",
   "name": "python",
   "nbconvert_exporter": "python",
   "pygments_lexer": "ipython3",
   "version": "3.12.4"
  }
 },
 "nbformat": 4,
 "nbformat_minor": 5
}
